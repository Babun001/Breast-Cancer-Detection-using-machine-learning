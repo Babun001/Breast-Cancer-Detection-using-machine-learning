{
 "cells": [
  {
   "cell_type": "code",
   "execution_count": 1,
   "metadata": {},
   "outputs": [],
   "source": [
    "import numpy as np\n",
    "import pandas as pd\n",
    "import matplotlib.pyplot as plt\n",
    "from sklearn import linear_model"
   ]
  },
  {
   "cell_type": "code",
   "execution_count": 2,
   "metadata": {},
   "outputs": [
    {
     "data": {
      "text/html": [
       "<div>\n",
       "<style scoped>\n",
       "    .dataframe tbody tr th:only-of-type {\n",
       "        vertical-align: middle;\n",
       "    }\n",
       "\n",
       "    .dataframe tbody tr th {\n",
       "        vertical-align: top;\n",
       "    }\n",
       "\n",
       "    .dataframe thead th {\n",
       "        text-align: right;\n",
       "    }\n",
       "</style>\n",
       "<table border=\"1\" class=\"dataframe\">\n",
       "  <thead>\n",
       "    <tr style=\"text-align: right;\">\n",
       "      <th></th>\n",
       "      <th>Class</th>\n",
       "      <th>AF3 delta std</th>\n",
       "      <th>AF3 delta m</th>\n",
       "      <th>AF3 theta std</th>\n",
       "      <th>AF3 theta m</th>\n",
       "      <th>AF3 alpha std</th>\n",
       "      <th>AF3 alpha m</th>\n",
       "      <th>AF3 beta std</th>\n",
       "      <th>AF3 beta m</th>\n",
       "      <th>F7 delta std</th>\n",
       "      <th>...</th>\n",
       "      <th>F8 beta std</th>\n",
       "      <th>F8 beta m</th>\n",
       "      <th>AF4 delta std</th>\n",
       "      <th>AF4 delta m</th>\n",
       "      <th>AF4 theta std</th>\n",
       "      <th>AF4 theta m</th>\n",
       "      <th>AF4 alpha std</th>\n",
       "      <th>AF4 alpha m</th>\n",
       "      <th>AF4 beta std</th>\n",
       "      <th>AF4 beta m</th>\n",
       "    </tr>\n",
       "  </thead>\n",
       "  <tbody>\n",
       "    <tr>\n",
       "      <th>0</th>\n",
       "      <td>2.0</td>\n",
       "      <td>3572.109492</td>\n",
       "      <td>2064.139767</td>\n",
       "      <td>1.383934</td>\n",
       "      <td>2.648510</td>\n",
       "      <td>0.577248</td>\n",
       "      <td>1.627082</td>\n",
       "      <td>3.662711</td>\n",
       "      <td>3.157348</td>\n",
       "      <td>3564.990262</td>\n",
       "      <td>...</td>\n",
       "      <td>68.258364</td>\n",
       "      <td>34.383600</td>\n",
       "      <td>3598.100957</td>\n",
       "      <td>2090.200986</td>\n",
       "      <td>0.981192</td>\n",
       "      <td>3.110219</td>\n",
       "      <td>0.798848</td>\n",
       "      <td>6.169045</td>\n",
       "      <td>80.777369</td>\n",
       "      <td>40.352991</td>\n",
       "    </tr>\n",
       "    <tr>\n",
       "      <th>1</th>\n",
       "      <td>1.0</td>\n",
       "      <td>3575.987145</td>\n",
       "      <td>2067.075707</td>\n",
       "      <td>1.449003</td>\n",
       "      <td>2.291286</td>\n",
       "      <td>0.613662</td>\n",
       "      <td>2.670380</td>\n",
       "      <td>3.153223</td>\n",
       "      <td>3.155400</td>\n",
       "      <td>3571.333956</td>\n",
       "      <td>...</td>\n",
       "      <td>0.939901</td>\n",
       "      <td>1.928215</td>\n",
       "      <td>3574.950611</td>\n",
       "      <td>2065.564498</td>\n",
       "      <td>1.255808</td>\n",
       "      <td>2.430715</td>\n",
       "      <td>0.665607</td>\n",
       "      <td>2.898852</td>\n",
       "      <td>2.264714</td>\n",
       "      <td>2.456856</td>\n",
       "    </tr>\n",
       "    <tr>\n",
       "      <th>2</th>\n",
       "      <td>1.0</td>\n",
       "      <td>3574.028703</td>\n",
       "      <td>2064.651129</td>\n",
       "      <td>1.061909</td>\n",
       "      <td>2.762791</td>\n",
       "      <td>0.483510</td>\n",
       "      <td>0.886294</td>\n",
       "      <td>2.440599</td>\n",
       "      <td>2.746755</td>\n",
       "      <td>3567.989868</td>\n",
       "      <td>...</td>\n",
       "      <td>2.133360</td>\n",
       "      <td>1.786575</td>\n",
       "      <td>3571.903771</td>\n",
       "      <td>2063.775174</td>\n",
       "      <td>1.369486</td>\n",
       "      <td>1.745040</td>\n",
       "      <td>0.829633</td>\n",
       "      <td>2.085740</td>\n",
       "      <td>1.425708</td>\n",
       "      <td>1.866412</td>\n",
       "    </tr>\n",
       "    <tr>\n",
       "      <th>3</th>\n",
       "      <td>1.0</td>\n",
       "      <td>3570.752460</td>\n",
       "      <td>2063.561959</td>\n",
       "      <td>1.246420</td>\n",
       "      <td>2.585314</td>\n",
       "      <td>0.883109</td>\n",
       "      <td>3.556139</td>\n",
       "      <td>1.198435</td>\n",
       "      <td>2.788651</td>\n",
       "      <td>3568.162641</td>\n",
       "      <td>...</td>\n",
       "      <td>18.202012</td>\n",
       "      <td>31.235712</td>\n",
       "      <td>3632.029356</td>\n",
       "      <td>2114.558539</td>\n",
       "      <td>8.513795</td>\n",
       "      <td>12.457664</td>\n",
       "      <td>7.668180</td>\n",
       "      <td>19.344174</td>\n",
       "      <td>21.615287</td>\n",
       "      <td>36.767420</td>\n",
       "    </tr>\n",
       "    <tr>\n",
       "      <th>4</th>\n",
       "      <td>0.0</td>\n",
       "      <td>3568.956413</td>\n",
       "      <td>2063.325695</td>\n",
       "      <td>1.270808</td>\n",
       "      <td>1.798558</td>\n",
       "      <td>0.519242</td>\n",
       "      <td>1.666985</td>\n",
       "      <td>1.456554</td>\n",
       "      <td>2.741789</td>\n",
       "      <td>3570.539720</td>\n",
       "      <td>...</td>\n",
       "      <td>1.569072</td>\n",
       "      <td>1.787690</td>\n",
       "      <td>3568.423547</td>\n",
       "      <td>2061.375681</td>\n",
       "      <td>1.347318</td>\n",
       "      <td>2.011580</td>\n",
       "      <td>1.198245</td>\n",
       "      <td>1.955537</td>\n",
       "      <td>1.462395</td>\n",
       "      <td>1.947861</td>\n",
       "    </tr>\n",
       "    <tr>\n",
       "      <th>...</th>\n",
       "      <td>...</td>\n",
       "      <td>...</td>\n",
       "      <td>...</td>\n",
       "      <td>...</td>\n",
       "      <td>...</td>\n",
       "      <td>...</td>\n",
       "      <td>...</td>\n",
       "      <td>...</td>\n",
       "      <td>...</td>\n",
       "      <td>...</td>\n",
       "      <td>...</td>\n",
       "      <td>...</td>\n",
       "      <td>...</td>\n",
       "      <td>...</td>\n",
       "      <td>...</td>\n",
       "      <td>...</td>\n",
       "      <td>...</td>\n",
       "      <td>...</td>\n",
       "      <td>...</td>\n",
       "      <td>...</td>\n",
       "      <td>...</td>\n",
       "    </tr>\n",
       "    <tr>\n",
       "      <th>5755</th>\n",
       "      <td>0.0</td>\n",
       "      <td>3574.186933</td>\n",
       "      <td>2064.477869</td>\n",
       "      <td>0.710708</td>\n",
       "      <td>1.534898</td>\n",
       "      <td>0.749206</td>\n",
       "      <td>2.038258</td>\n",
       "      <td>2.208018</td>\n",
       "      <td>2.157076</td>\n",
       "      <td>3566.398415</td>\n",
       "      <td>...</td>\n",
       "      <td>2.189225</td>\n",
       "      <td>2.200203</td>\n",
       "      <td>3572.290285</td>\n",
       "      <td>2063.776063</td>\n",
       "      <td>1.268569</td>\n",
       "      <td>2.547969</td>\n",
       "      <td>0.887808</td>\n",
       "      <td>1.651011</td>\n",
       "      <td>1.533523</td>\n",
       "      <td>1.957866</td>\n",
       "    </tr>\n",
       "    <tr>\n",
       "      <th>5756</th>\n",
       "      <td>1.0</td>\n",
       "      <td>3566.585525</td>\n",
       "      <td>2060.773980</td>\n",
       "      <td>0.566601</td>\n",
       "      <td>1.926626</td>\n",
       "      <td>0.625980</td>\n",
       "      <td>1.766641</td>\n",
       "      <td>2.391023</td>\n",
       "      <td>2.647331</td>\n",
       "      <td>3571.162510</td>\n",
       "      <td>...</td>\n",
       "      <td>2.244246</td>\n",
       "      <td>1.832186</td>\n",
       "      <td>3569.213136</td>\n",
       "      <td>2061.681530</td>\n",
       "      <td>0.701624</td>\n",
       "      <td>0.699303</td>\n",
       "      <td>0.764788</td>\n",
       "      <td>1.988611</td>\n",
       "      <td>1.648311</td>\n",
       "      <td>2.120075</td>\n",
       "    </tr>\n",
       "    <tr>\n",
       "      <th>5757</th>\n",
       "      <td>0.0</td>\n",
       "      <td>3574.343116</td>\n",
       "      <td>2065.996679</td>\n",
       "      <td>0.606401</td>\n",
       "      <td>2.835015</td>\n",
       "      <td>0.617079</td>\n",
       "      <td>1.209722</td>\n",
       "      <td>3.357912</td>\n",
       "      <td>3.098423</td>\n",
       "      <td>3566.521533</td>\n",
       "      <td>...</td>\n",
       "      <td>27.025346</td>\n",
       "      <td>15.413625</td>\n",
       "      <td>3608.394990</td>\n",
       "      <td>2091.509508</td>\n",
       "      <td>1.479338</td>\n",
       "      <td>3.824176</td>\n",
       "      <td>3.281520</td>\n",
       "      <td>4.238889</td>\n",
       "      <td>33.441194</td>\n",
       "      <td>19.158094</td>\n",
       "    </tr>\n",
       "    <tr>\n",
       "      <th>5758</th>\n",
       "      <td>2.0</td>\n",
       "      <td>3570.371855</td>\n",
       "      <td>2065.092973</td>\n",
       "      <td>0.843877</td>\n",
       "      <td>2.009273</td>\n",
       "      <td>0.631325</td>\n",
       "      <td>2.748583</td>\n",
       "      <td>1.312771</td>\n",
       "      <td>2.783715</td>\n",
       "      <td>3564.658411</td>\n",
       "      <td>...</td>\n",
       "      <td>1.793333</td>\n",
       "      <td>3.040803</td>\n",
       "      <td>3568.334311</td>\n",
       "      <td>2063.475924</td>\n",
       "      <td>1.355214</td>\n",
       "      <td>2.089584</td>\n",
       "      <td>0.914655</td>\n",
       "      <td>3.371656</td>\n",
       "      <td>1.076550</td>\n",
       "      <td>2.066713</td>\n",
       "    </tr>\n",
       "    <tr>\n",
       "      <th>5759</th>\n",
       "      <td>1.0</td>\n",
       "      <td>3571.646152</td>\n",
       "      <td>2064.292147</td>\n",
       "      <td>0.657439</td>\n",
       "      <td>2.576671</td>\n",
       "      <td>0.867987</td>\n",
       "      <td>3.159366</td>\n",
       "      <td>1.204885</td>\n",
       "      <td>2.930878</td>\n",
       "      <td>3563.574264</td>\n",
       "      <td>...</td>\n",
       "      <td>1.359398</td>\n",
       "      <td>2.347369</td>\n",
       "      <td>3570.863440</td>\n",
       "      <td>2064.080620</td>\n",
       "      <td>1.406384</td>\n",
       "      <td>2.024807</td>\n",
       "      <td>0.758809</td>\n",
       "      <td>2.726751</td>\n",
       "      <td>1.396227</td>\n",
       "      <td>2.646152</td>\n",
       "    </tr>\n",
       "  </tbody>\n",
       "</table>\n",
       "<p>5760 rows × 113 columns</p>\n",
       "</div>"
      ],
      "text/plain": [
       "      Class  AF3 delta std  AF3 delta m  AF3 theta std  AF3 theta m  \\\n",
       "0       2.0    3572.109492  2064.139767       1.383934     2.648510   \n",
       "1       1.0    3575.987145  2067.075707       1.449003     2.291286   \n",
       "2       1.0    3574.028703  2064.651129       1.061909     2.762791   \n",
       "3       1.0    3570.752460  2063.561959       1.246420     2.585314   \n",
       "4       0.0    3568.956413  2063.325695       1.270808     1.798558   \n",
       "...     ...            ...          ...            ...          ...   \n",
       "5755    0.0    3574.186933  2064.477869       0.710708     1.534898   \n",
       "5756    1.0    3566.585525  2060.773980       0.566601     1.926626   \n",
       "5757    0.0    3574.343116  2065.996679       0.606401     2.835015   \n",
       "5758    2.0    3570.371855  2065.092973       0.843877     2.009273   \n",
       "5759    1.0    3571.646152  2064.292147       0.657439     2.576671   \n",
       "\n",
       "      AF3 alpha std  AF3 alpha m  AF3 beta std  AF3 beta m  F7 delta std  ...  \\\n",
       "0          0.577248     1.627082      3.662711    3.157348   3564.990262  ...   \n",
       "1          0.613662     2.670380      3.153223    3.155400   3571.333956  ...   \n",
       "2          0.483510     0.886294      2.440599    2.746755   3567.989868  ...   \n",
       "3          0.883109     3.556139      1.198435    2.788651   3568.162641  ...   \n",
       "4          0.519242     1.666985      1.456554    2.741789   3570.539720  ...   \n",
       "...             ...          ...           ...         ...           ...  ...   \n",
       "5755       0.749206     2.038258      2.208018    2.157076   3566.398415  ...   \n",
       "5756       0.625980     1.766641      2.391023    2.647331   3571.162510  ...   \n",
       "5757       0.617079     1.209722      3.357912    3.098423   3566.521533  ...   \n",
       "5758       0.631325     2.748583      1.312771    2.783715   3564.658411  ...   \n",
       "5759       0.867987     3.159366      1.204885    2.930878   3563.574264  ...   \n",
       "\n",
       "      F8 beta std  F8 beta m  AF4 delta std  AF4 delta m  AF4 theta std  \\\n",
       "0       68.258364  34.383600    3598.100957  2090.200986       0.981192   \n",
       "1        0.939901   1.928215    3574.950611  2065.564498       1.255808   \n",
       "2        2.133360   1.786575    3571.903771  2063.775174       1.369486   \n",
       "3       18.202012  31.235712    3632.029356  2114.558539       8.513795   \n",
       "4        1.569072   1.787690    3568.423547  2061.375681       1.347318   \n",
       "...           ...        ...            ...          ...            ...   \n",
       "5755     2.189225   2.200203    3572.290285  2063.776063       1.268569   \n",
       "5756     2.244246   1.832186    3569.213136  2061.681530       0.701624   \n",
       "5757    27.025346  15.413625    3608.394990  2091.509508       1.479338   \n",
       "5758     1.793333   3.040803    3568.334311  2063.475924       1.355214   \n",
       "5759     1.359398   2.347369    3570.863440  2064.080620       1.406384   \n",
       "\n",
       "      AF4 theta m  AF4 alpha std  AF4 alpha m  AF4 beta std  AF4 beta m  \n",
       "0        3.110219       0.798848     6.169045     80.777369   40.352991  \n",
       "1        2.430715       0.665607     2.898852      2.264714    2.456856  \n",
       "2        1.745040       0.829633     2.085740      1.425708    1.866412  \n",
       "3       12.457664       7.668180    19.344174     21.615287   36.767420  \n",
       "4        2.011580       1.198245     1.955537      1.462395    1.947861  \n",
       "...           ...            ...          ...           ...         ...  \n",
       "5755     2.547969       0.887808     1.651011      1.533523    1.957866  \n",
       "5756     0.699303       0.764788     1.988611      1.648311    2.120075  \n",
       "5757     3.824176       3.281520     4.238889     33.441194   19.158094  \n",
       "5758     2.089584       0.914655     3.371656      1.076550    2.066713  \n",
       "5759     2.024807       0.758809     2.726751      1.396227    2.646152  \n",
       "\n",
       "[5760 rows x 113 columns]"
      ]
     },
     "execution_count": 2,
     "metadata": {},
     "output_type": "execute_result"
    }
   ],
   "source": [
    "dfs = [pd.read_csv('./CSV_FIles/user_' + user + '.csv') for user in ['a', 'b']]\n",
    "data = pd.concat(dfs, axis=0).sample(frac=1.0, random_state=123).reset_index(drop=True)\n",
    "data"
   ]
  },
  {
   "cell_type": "code",
   "execution_count": 3,
   "metadata": {},
   "outputs": [],
   "source": [
    "df = data.copy()\n",
    "\n",
    "y = df['Class'].copy()\n",
    "X = df.drop('Class', axis=1)"
   ]
  },
  {
   "cell_type": "code",
   "execution_count": 4,
   "metadata": {},
   "outputs": [
    {
     "name": "stdout",
     "output_type": "stream",
     "text": [
      "The length of X_train-> 4608\n",
      "The length of X_test-> 1152\n"
     ]
    }
   ],
   "source": [
    "from sklearn.model_selection import train_test_split\n",
    "X_train,X_test,y_train,y_test = train_test_split(X,y, test_size=0.2, random_state=50)\n",
    "print(\"The length of X_train->\",len(X_train))\n",
    "print(\"The length of X_test->\",len(X_test))\n"
   ]
  },
  {
   "cell_type": "code",
   "execution_count": 5,
   "metadata": {},
   "outputs": [],
   "source": [
    "from sklearn.tree import DecisionTreeClassifier\n",
    "clf = DecisionTreeClassifier()#criterion='entropy')\n",
    "clf = clf.fit(X_train,y_train)"
   ]
  },
  {
   "cell_type": "code",
   "execution_count": 6,
   "metadata": {},
   "outputs": [
    {
     "data": {
      "text/plain": [
       "array([0., 0., 2., ..., 2., 2., 0.])"
      ]
     },
     "execution_count": 6,
     "metadata": {},
     "output_type": "execute_result"
    }
   ],
   "source": [
    "clf.get_params()\n",
    "predictions = clf.predict(X_test)\n",
    "predictions"
   ]
  },
  {
   "cell_type": "code",
   "execution_count": 7,
   "metadata": {},
   "outputs": [
    {
     "data": {
      "text/plain": [
       "array([[1., 0., 0.],\n",
       "       [1., 0., 0.],\n",
       "       [0., 0., 1.],\n",
       "       ...,\n",
       "       [0., 0., 1.],\n",
       "       [0., 0., 1.],\n",
       "       [1., 0., 0.]])"
      ]
     },
     "execution_count": 7,
     "metadata": {},
     "output_type": "execute_result"
    }
   ],
   "source": [
    "clf.predict_proba(X_test)\n"
   ]
  },
  {
   "cell_type": "code",
   "execution_count": 8,
   "metadata": {},
   "outputs": [
    {
     "data": {
      "text/plain": [
       "68.40277777777779"
      ]
     },
     "execution_count": 8,
     "metadata": {},
     "output_type": "execute_result"
    }
   ],
   "source": [
    "from sklearn.metrics import accuracy_score\n",
    "accuracy_score(y_test,predictions)*100"
   ]
  },
  {
   "cell_type": "code",
   "execution_count": 9,
   "metadata": {},
   "outputs": [
    {
     "data": {
      "text/plain": [
       "'n_jobs = -1 means the n_jobs parameter can be used to distribute and exploit all the CPUs available in the local computer'"
      ]
     },
     "execution_count": 9,
     "metadata": {},
     "output_type": "execute_result"
    }
   ],
   "source": [
    "from sklearn.model_selection import GridSearchCV\n",
    "param_dict = {\n",
    "    \"criterion\":[\"gini\",\"entropy\"],\n",
    "    \"max_depth\":[1,2,3,4,5,6,7,8,None]\n",
    "}\n",
    "\n",
    "# K fold corss validation\n",
    "grid = GridSearchCV(clf,param_grid=param_dict, cv=10, n_jobs=-1)# CV = cross validation\n",
    "'''n_jobs = -1 means the n_jobs parameter can be used to distribute and exploit all the CPUs available in the local computer'''"
   ]
  },
  {
   "cell_type": "code",
   "execution_count": 10,
   "metadata": {},
   "outputs": [
    {
     "data": {
      "text/html": [
       "<style>#sk-container-id-1 {color: black;}#sk-container-id-1 pre{padding: 0;}#sk-container-id-1 div.sk-toggleable {background-color: white;}#sk-container-id-1 label.sk-toggleable__label {cursor: pointer;display: block;width: 100%;margin-bottom: 0;padding: 0.3em;box-sizing: border-box;text-align: center;}#sk-container-id-1 label.sk-toggleable__label-arrow:before {content: \"▸\";float: left;margin-right: 0.25em;color: #696969;}#sk-container-id-1 label.sk-toggleable__label-arrow:hover:before {color: black;}#sk-container-id-1 div.sk-estimator:hover label.sk-toggleable__label-arrow:before {color: black;}#sk-container-id-1 div.sk-toggleable__content {max-height: 0;max-width: 0;overflow: hidden;text-align: left;background-color: #f0f8ff;}#sk-container-id-1 div.sk-toggleable__content pre {margin: 0.2em;color: black;border-radius: 0.25em;background-color: #f0f8ff;}#sk-container-id-1 input.sk-toggleable__control:checked~div.sk-toggleable__content {max-height: 200px;max-width: 100%;overflow: auto;}#sk-container-id-1 input.sk-toggleable__control:checked~label.sk-toggleable__label-arrow:before {content: \"▾\";}#sk-container-id-1 div.sk-estimator input.sk-toggleable__control:checked~label.sk-toggleable__label {background-color: #d4ebff;}#sk-container-id-1 div.sk-label input.sk-toggleable__control:checked~label.sk-toggleable__label {background-color: #d4ebff;}#sk-container-id-1 input.sk-hidden--visually {border: 0;clip: rect(1px 1px 1px 1px);clip: rect(1px, 1px, 1px, 1px);height: 1px;margin: -1px;overflow: hidden;padding: 0;position: absolute;width: 1px;}#sk-container-id-1 div.sk-estimator {font-family: monospace;background-color: #f0f8ff;border: 1px dotted black;border-radius: 0.25em;box-sizing: border-box;margin-bottom: 0.5em;}#sk-container-id-1 div.sk-estimator:hover {background-color: #d4ebff;}#sk-container-id-1 div.sk-parallel-item::after {content: \"\";width: 100%;border-bottom: 1px solid gray;flex-grow: 1;}#sk-container-id-1 div.sk-label:hover label.sk-toggleable__label {background-color: #d4ebff;}#sk-container-id-1 div.sk-serial::before {content: \"\";position: absolute;border-left: 1px solid gray;box-sizing: border-box;top: 0;bottom: 0;left: 50%;z-index: 0;}#sk-container-id-1 div.sk-serial {display: flex;flex-direction: column;align-items: center;background-color: white;padding-right: 0.2em;padding-left: 0.2em;position: relative;}#sk-container-id-1 div.sk-item {position: relative;z-index: 1;}#sk-container-id-1 div.sk-parallel {display: flex;align-items: stretch;justify-content: center;background-color: white;position: relative;}#sk-container-id-1 div.sk-item::before, #sk-container-id-1 div.sk-parallel-item::before {content: \"\";position: absolute;border-left: 1px solid gray;box-sizing: border-box;top: 0;bottom: 0;left: 50%;z-index: -1;}#sk-container-id-1 div.sk-parallel-item {display: flex;flex-direction: column;z-index: 1;position: relative;background-color: white;}#sk-container-id-1 div.sk-parallel-item:first-child::after {align-self: flex-end;width: 50%;}#sk-container-id-1 div.sk-parallel-item:last-child::after {align-self: flex-start;width: 50%;}#sk-container-id-1 div.sk-parallel-item:only-child::after {width: 0;}#sk-container-id-1 div.sk-dashed-wrapped {border: 1px dashed gray;margin: 0 0.4em 0.5em 0.4em;box-sizing: border-box;padding-bottom: 0.4em;background-color: white;}#sk-container-id-1 div.sk-label label {font-family: monospace;font-weight: bold;display: inline-block;line-height: 1.2em;}#sk-container-id-1 div.sk-label-container {text-align: center;}#sk-container-id-1 div.sk-container {/* jupyter's `normalize.less` sets `[hidden] { display: none; }` but bootstrap.min.css set `[hidden] { display: none !important; }` so we also need the `!important` here to be able to override the default hidden behavior on the sphinx rendered scikit-learn.org. See: https://github.com/scikit-learn/scikit-learn/issues/21755 */display: inline-block !important;position: relative;}#sk-container-id-1 div.sk-text-repr-fallback {display: none;}</style><div id=\"sk-container-id-1\" class=\"sk-top-container\"><div class=\"sk-text-repr-fallback\"><pre>GridSearchCV(cv=10, estimator=DecisionTreeClassifier(), n_jobs=-1,\n",
       "             param_grid={&#x27;criterion&#x27;: [&#x27;gini&#x27;, &#x27;entropy&#x27;],\n",
       "                         &#x27;max_depth&#x27;: [1, 2, 3, 4, 5, 6, 7, 8, None]})</pre><b>In a Jupyter environment, please rerun this cell to show the HTML representation or trust the notebook. <br />On GitHub, the HTML representation is unable to render, please try loading this page with nbviewer.org.</b></div><div class=\"sk-container\" hidden><div class=\"sk-item sk-dashed-wrapped\"><div class=\"sk-label-container\"><div class=\"sk-label sk-toggleable\"><input class=\"sk-toggleable__control sk-hidden--visually\" id=\"sk-estimator-id-1\" type=\"checkbox\" ><label for=\"sk-estimator-id-1\" class=\"sk-toggleable__label sk-toggleable__label-arrow\">GridSearchCV</label><div class=\"sk-toggleable__content\"><pre>GridSearchCV(cv=10, estimator=DecisionTreeClassifier(), n_jobs=-1,\n",
       "             param_grid={&#x27;criterion&#x27;: [&#x27;gini&#x27;, &#x27;entropy&#x27;],\n",
       "                         &#x27;max_depth&#x27;: [1, 2, 3, 4, 5, 6, 7, 8, None]})</pre></div></div></div><div class=\"sk-parallel\"><div class=\"sk-parallel-item\"><div class=\"sk-item\"><div class=\"sk-label-container\"><div class=\"sk-label sk-toggleable\"><input class=\"sk-toggleable__control sk-hidden--visually\" id=\"sk-estimator-id-2\" type=\"checkbox\" ><label for=\"sk-estimator-id-2\" class=\"sk-toggleable__label sk-toggleable__label-arrow\">estimator: DecisionTreeClassifier</label><div class=\"sk-toggleable__content\"><pre>DecisionTreeClassifier()</pre></div></div></div><div class=\"sk-serial\"><div class=\"sk-item\"><div class=\"sk-estimator sk-toggleable\"><input class=\"sk-toggleable__control sk-hidden--visually\" id=\"sk-estimator-id-3\" type=\"checkbox\" ><label for=\"sk-estimator-id-3\" class=\"sk-toggleable__label sk-toggleable__label-arrow\">DecisionTreeClassifier</label><div class=\"sk-toggleable__content\"><pre>DecisionTreeClassifier()</pre></div></div></div></div></div></div></div></div></div></div>"
      ],
      "text/plain": [
       "GridSearchCV(cv=10, estimator=DecisionTreeClassifier(), n_jobs=-1,\n",
       "             param_grid={'criterion': ['gini', 'entropy'],\n",
       "                         'max_depth': [1, 2, 3, 4, 5, 6, 7, 8, None]})"
      ]
     },
     "execution_count": 10,
     "metadata": {},
     "output_type": "execute_result"
    }
   ],
   "source": [
    "grid.fit(X_train,y_train)"
   ]
  },
  {
   "cell_type": "code",
   "execution_count": 11,
   "metadata": {},
   "outputs": [
    {
     "data": {
      "text/html": [
       "<style>#sk-container-id-2 {color: black;}#sk-container-id-2 pre{padding: 0;}#sk-container-id-2 div.sk-toggleable {background-color: white;}#sk-container-id-2 label.sk-toggleable__label {cursor: pointer;display: block;width: 100%;margin-bottom: 0;padding: 0.3em;box-sizing: border-box;text-align: center;}#sk-container-id-2 label.sk-toggleable__label-arrow:before {content: \"▸\";float: left;margin-right: 0.25em;color: #696969;}#sk-container-id-2 label.sk-toggleable__label-arrow:hover:before {color: black;}#sk-container-id-2 div.sk-estimator:hover label.sk-toggleable__label-arrow:before {color: black;}#sk-container-id-2 div.sk-toggleable__content {max-height: 0;max-width: 0;overflow: hidden;text-align: left;background-color: #f0f8ff;}#sk-container-id-2 div.sk-toggleable__content pre {margin: 0.2em;color: black;border-radius: 0.25em;background-color: #f0f8ff;}#sk-container-id-2 input.sk-toggleable__control:checked~div.sk-toggleable__content {max-height: 200px;max-width: 100%;overflow: auto;}#sk-container-id-2 input.sk-toggleable__control:checked~label.sk-toggleable__label-arrow:before {content: \"▾\";}#sk-container-id-2 div.sk-estimator input.sk-toggleable__control:checked~label.sk-toggleable__label {background-color: #d4ebff;}#sk-container-id-2 div.sk-label input.sk-toggleable__control:checked~label.sk-toggleable__label {background-color: #d4ebff;}#sk-container-id-2 input.sk-hidden--visually {border: 0;clip: rect(1px 1px 1px 1px);clip: rect(1px, 1px, 1px, 1px);height: 1px;margin: -1px;overflow: hidden;padding: 0;position: absolute;width: 1px;}#sk-container-id-2 div.sk-estimator {font-family: monospace;background-color: #f0f8ff;border: 1px dotted black;border-radius: 0.25em;box-sizing: border-box;margin-bottom: 0.5em;}#sk-container-id-2 div.sk-estimator:hover {background-color: #d4ebff;}#sk-container-id-2 div.sk-parallel-item::after {content: \"\";width: 100%;border-bottom: 1px solid gray;flex-grow: 1;}#sk-container-id-2 div.sk-label:hover label.sk-toggleable__label {background-color: #d4ebff;}#sk-container-id-2 div.sk-serial::before {content: \"\";position: absolute;border-left: 1px solid gray;box-sizing: border-box;top: 0;bottom: 0;left: 50%;z-index: 0;}#sk-container-id-2 div.sk-serial {display: flex;flex-direction: column;align-items: center;background-color: white;padding-right: 0.2em;padding-left: 0.2em;position: relative;}#sk-container-id-2 div.sk-item {position: relative;z-index: 1;}#sk-container-id-2 div.sk-parallel {display: flex;align-items: stretch;justify-content: center;background-color: white;position: relative;}#sk-container-id-2 div.sk-item::before, #sk-container-id-2 div.sk-parallel-item::before {content: \"\";position: absolute;border-left: 1px solid gray;box-sizing: border-box;top: 0;bottom: 0;left: 50%;z-index: -1;}#sk-container-id-2 div.sk-parallel-item {display: flex;flex-direction: column;z-index: 1;position: relative;background-color: white;}#sk-container-id-2 div.sk-parallel-item:first-child::after {align-self: flex-end;width: 50%;}#sk-container-id-2 div.sk-parallel-item:last-child::after {align-self: flex-start;width: 50%;}#sk-container-id-2 div.sk-parallel-item:only-child::after {width: 0;}#sk-container-id-2 div.sk-dashed-wrapped {border: 1px dashed gray;margin: 0 0.4em 0.5em 0.4em;box-sizing: border-box;padding-bottom: 0.4em;background-color: white;}#sk-container-id-2 div.sk-label label {font-family: monospace;font-weight: bold;display: inline-block;line-height: 1.2em;}#sk-container-id-2 div.sk-label-container {text-align: center;}#sk-container-id-2 div.sk-container {/* jupyter's `normalize.less` sets `[hidden] { display: none; }` but bootstrap.min.css set `[hidden] { display: none !important; }` so we also need the `!important` here to be able to override the default hidden behavior on the sphinx rendered scikit-learn.org. See: https://github.com/scikit-learn/scikit-learn/issues/21755 */display: inline-block !important;position: relative;}#sk-container-id-2 div.sk-text-repr-fallback {display: none;}</style><div id=\"sk-container-id-2\" class=\"sk-top-container\"><div class=\"sk-text-repr-fallback\"><pre>DecisionTreeClassifier(criterion=&#x27;entropy&#x27;)</pre><b>In a Jupyter environment, please rerun this cell to show the HTML representation or trust the notebook. <br />On GitHub, the HTML representation is unable to render, please try loading this page with nbviewer.org.</b></div><div class=\"sk-container\" hidden><div class=\"sk-item\"><div class=\"sk-estimator sk-toggleable\"><input class=\"sk-toggleable__control sk-hidden--visually\" id=\"sk-estimator-id-4\" type=\"checkbox\" checked><label for=\"sk-estimator-id-4\" class=\"sk-toggleable__label sk-toggleable__label-arrow\">DecisionTreeClassifier</label><div class=\"sk-toggleable__content\"><pre>DecisionTreeClassifier(criterion=&#x27;entropy&#x27;)</pre></div></div></div></div></div>"
      ],
      "text/plain": [
       "DecisionTreeClassifier(criterion='entropy')"
      ]
     },
     "execution_count": 11,
     "metadata": {},
     "output_type": "execute_result"
    }
   ],
   "source": [
    "# grid.score(X_test,y_test)*100\n",
    "grid.best_estimator_"
   ]
  },
  {
   "cell_type": "code",
   "execution_count": 12,
   "metadata": {},
   "outputs": [
    {
     "data": {
      "text/plain": [
       "69.87847222222221"
      ]
     },
     "execution_count": 12,
     "metadata": {},
     "output_type": "execute_result"
    }
   ],
   "source": [
    "grid.score(X_test,y_test)*100"
   ]
  }
 ],
 "metadata": {
  "kernelspec": {
   "display_name": "Python 3",
   "language": "python",
   "name": "python3"
  },
  "language_info": {
   "codemirror_mode": {
    "name": "ipython",
    "version": 3
   },
   "file_extension": ".py",
   "mimetype": "text/x-python",
   "name": "python",
   "nbconvert_exporter": "python",
   "pygments_lexer": "ipython3",
   "version": "3.11.5"
  },
  "orig_nbformat": 4
 },
 "nbformat": 4,
 "nbformat_minor": 2
}
