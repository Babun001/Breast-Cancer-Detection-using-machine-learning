{
 "cells": [
  {
   "cell_type": "code",
   "execution_count": 1,
   "metadata": {},
   "outputs": [],
   "source": [
    "import numpy as np\n",
    "import pandas as pd\n",
    "import matplotlib.pyplot as plt\n",
    "from sklearn import linear_model\n"
   ]
  },
  {
   "cell_type": "code",
   "execution_count": 2,
   "metadata": {},
   "outputs": [
    {
     "name": "stdout",
     "output_type": "stream",
     "text": [
      "shape of that data is-> (5760, 113)\n"
     ]
    },
    {
     "data": {
      "text/plain": [
       "0       False\n",
       "1       False\n",
       "2       False\n",
       "3       False\n",
       "4       False\n",
       "        ...  \n",
       "5755    False\n",
       "5756    False\n",
       "5757    False\n",
       "5758    False\n",
       "5759    False\n",
       "Length: 5760, dtype: bool"
      ]
     },
     "execution_count": 2,
     "metadata": {},
     "output_type": "execute_result"
    }
   ],
   "source": [
    "df = [pd.read_csv('./CSV_Files/user_' + user + '.csv') for user in ['a','b']]\n",
    "data  = pd.concat(df, axis=0).sample(frac=1.0, random_state=123).reset_index(drop=True)\n",
    "data.head(5)\n",
    "print(\"shape of that data is->\",data.shape)\n",
    "data.duplicated()"
   ]
  },
  {
   "cell_type": "code",
   "execution_count": 3,
   "metadata": {},
   "outputs": [
    {
     "data": {
      "text/html": [
       "<div>\n",
       "<style scoped>\n",
       "    .dataframe tbody tr th:only-of-type {\n",
       "        vertical-align: middle;\n",
       "    }\n",
       "\n",
       "    .dataframe tbody tr th {\n",
       "        vertical-align: top;\n",
       "    }\n",
       "\n",
       "    .dataframe thead th {\n",
       "        text-align: right;\n",
       "    }\n",
       "</style>\n",
       "<table border=\"1\" class=\"dataframe\">\n",
       "  <thead>\n",
       "    <tr style=\"text-align: right;\">\n",
       "      <th></th>\n",
       "      <th>AF3 delta std</th>\n",
       "      <th>AF3 delta m</th>\n",
       "      <th>AF3 theta std</th>\n",
       "      <th>AF3 theta m</th>\n",
       "      <th>AF3 alpha std</th>\n",
       "      <th>AF3 alpha m</th>\n",
       "      <th>AF3 beta std</th>\n",
       "      <th>AF3 beta m</th>\n",
       "      <th>F7 delta std</th>\n",
       "      <th>F7 delta m</th>\n",
       "      <th>...</th>\n",
       "      <th>F8 beta std</th>\n",
       "      <th>F8 beta m</th>\n",
       "      <th>AF4 delta std</th>\n",
       "      <th>AF4 delta m</th>\n",
       "      <th>AF4 theta std</th>\n",
       "      <th>AF4 theta m</th>\n",
       "      <th>AF4 alpha std</th>\n",
       "      <th>AF4 alpha m</th>\n",
       "      <th>AF4 beta std</th>\n",
       "      <th>AF4 beta m</th>\n",
       "    </tr>\n",
       "  </thead>\n",
       "  <tbody>\n",
       "    <tr>\n",
       "      <th>0</th>\n",
       "      <td>3572.109492</td>\n",
       "      <td>2064.139767</td>\n",
       "      <td>1.383934</td>\n",
       "      <td>2.648510</td>\n",
       "      <td>0.577248</td>\n",
       "      <td>1.627082</td>\n",
       "      <td>3.662711</td>\n",
       "      <td>3.157348</td>\n",
       "      <td>3564.990262</td>\n",
       "      <td>2060.034151</td>\n",
       "      <td>...</td>\n",
       "      <td>68.258364</td>\n",
       "      <td>34.383600</td>\n",
       "      <td>3598.100957</td>\n",
       "      <td>2090.200986</td>\n",
       "      <td>0.981192</td>\n",
       "      <td>3.110219</td>\n",
       "      <td>0.798848</td>\n",
       "      <td>6.169045</td>\n",
       "      <td>80.777369</td>\n",
       "      <td>40.352991</td>\n",
       "    </tr>\n",
       "    <tr>\n",
       "      <th>1</th>\n",
       "      <td>3575.987145</td>\n",
       "      <td>2067.075707</td>\n",
       "      <td>1.449003</td>\n",
       "      <td>2.291286</td>\n",
       "      <td>0.613662</td>\n",
       "      <td>2.670380</td>\n",
       "      <td>3.153223</td>\n",
       "      <td>3.155400</td>\n",
       "      <td>3571.333956</td>\n",
       "      <td>2063.310623</td>\n",
       "      <td>...</td>\n",
       "      <td>0.939901</td>\n",
       "      <td>1.928215</td>\n",
       "      <td>3574.950611</td>\n",
       "      <td>2065.564498</td>\n",
       "      <td>1.255808</td>\n",
       "      <td>2.430715</td>\n",
       "      <td>0.665607</td>\n",
       "      <td>2.898852</td>\n",
       "      <td>2.264714</td>\n",
       "      <td>2.456856</td>\n",
       "    </tr>\n",
       "    <tr>\n",
       "      <th>2</th>\n",
       "      <td>3574.028703</td>\n",
       "      <td>2064.651129</td>\n",
       "      <td>1.061909</td>\n",
       "      <td>2.762791</td>\n",
       "      <td>0.483510</td>\n",
       "      <td>0.886294</td>\n",
       "      <td>2.440599</td>\n",
       "      <td>2.746755</td>\n",
       "      <td>3567.989868</td>\n",
       "      <td>2061.396009</td>\n",
       "      <td>...</td>\n",
       "      <td>2.133360</td>\n",
       "      <td>1.786575</td>\n",
       "      <td>3571.903771</td>\n",
       "      <td>2063.775174</td>\n",
       "      <td>1.369486</td>\n",
       "      <td>1.745040</td>\n",
       "      <td>0.829633</td>\n",
       "      <td>2.085740</td>\n",
       "      <td>1.425708</td>\n",
       "      <td>1.866412</td>\n",
       "    </tr>\n",
       "    <tr>\n",
       "      <th>3</th>\n",
       "      <td>3570.752460</td>\n",
       "      <td>2063.561959</td>\n",
       "      <td>1.246420</td>\n",
       "      <td>2.585314</td>\n",
       "      <td>0.883109</td>\n",
       "      <td>3.556139</td>\n",
       "      <td>1.198435</td>\n",
       "      <td>2.788651</td>\n",
       "      <td>3568.162641</td>\n",
       "      <td>2064.287756</td>\n",
       "      <td>...</td>\n",
       "      <td>18.202012</td>\n",
       "      <td>31.235712</td>\n",
       "      <td>3632.029356</td>\n",
       "      <td>2114.558539</td>\n",
       "      <td>8.513795</td>\n",
       "      <td>12.457664</td>\n",
       "      <td>7.668180</td>\n",
       "      <td>19.344174</td>\n",
       "      <td>21.615287</td>\n",
       "      <td>36.767420</td>\n",
       "    </tr>\n",
       "    <tr>\n",
       "      <th>4</th>\n",
       "      <td>3568.956413</td>\n",
       "      <td>2063.325695</td>\n",
       "      <td>1.270808</td>\n",
       "      <td>1.798558</td>\n",
       "      <td>0.519242</td>\n",
       "      <td>1.666985</td>\n",
       "      <td>1.456554</td>\n",
       "      <td>2.741789</td>\n",
       "      <td>3570.539720</td>\n",
       "      <td>2063.834411</td>\n",
       "      <td>...</td>\n",
       "      <td>1.569072</td>\n",
       "      <td>1.787690</td>\n",
       "      <td>3568.423547</td>\n",
       "      <td>2061.375681</td>\n",
       "      <td>1.347318</td>\n",
       "      <td>2.011580</td>\n",
       "      <td>1.198245</td>\n",
       "      <td>1.955537</td>\n",
       "      <td>1.462395</td>\n",
       "      <td>1.947861</td>\n",
       "    </tr>\n",
       "  </tbody>\n",
       "</table>\n",
       "<p>5 rows × 112 columns</p>\n",
       "</div>"
      ],
      "text/plain": [
       "   AF3 delta std  AF3 delta m  AF3 theta std  AF3 theta m  AF3 alpha std  \\\n",
       "0    3572.109492  2064.139767       1.383934     2.648510       0.577248   \n",
       "1    3575.987145  2067.075707       1.449003     2.291286       0.613662   \n",
       "2    3574.028703  2064.651129       1.061909     2.762791       0.483510   \n",
       "3    3570.752460  2063.561959       1.246420     2.585314       0.883109   \n",
       "4    3568.956413  2063.325695       1.270808     1.798558       0.519242   \n",
       "\n",
       "   AF3 alpha m  AF3 beta std  AF3 beta m  F7 delta std   F7 delta m  ...  \\\n",
       "0     1.627082      3.662711    3.157348   3564.990262  2060.034151  ...   \n",
       "1     2.670380      3.153223    3.155400   3571.333956  2063.310623  ...   \n",
       "2     0.886294      2.440599    2.746755   3567.989868  2061.396009  ...   \n",
       "3     3.556139      1.198435    2.788651   3568.162641  2064.287756  ...   \n",
       "4     1.666985      1.456554    2.741789   3570.539720  2063.834411  ...   \n",
       "\n",
       "   F8 beta std  F8 beta m  AF4 delta std  AF4 delta m  AF4 theta std  \\\n",
       "0    68.258364  34.383600    3598.100957  2090.200986       0.981192   \n",
       "1     0.939901   1.928215    3574.950611  2065.564498       1.255808   \n",
       "2     2.133360   1.786575    3571.903771  2063.775174       1.369486   \n",
       "3    18.202012  31.235712    3632.029356  2114.558539       8.513795   \n",
       "4     1.569072   1.787690    3568.423547  2061.375681       1.347318   \n",
       "\n",
       "   AF4 theta m  AF4 alpha std  AF4 alpha m  AF4 beta std  AF4 beta m  \n",
       "0     3.110219       0.798848     6.169045     80.777369   40.352991  \n",
       "1     2.430715       0.665607     2.898852      2.264714    2.456856  \n",
       "2     1.745040       0.829633     2.085740      1.425708    1.866412  \n",
       "3    12.457664       7.668180    19.344174     21.615287   36.767420  \n",
       "4     2.011580       1.198245     1.955537      1.462395    1.947861  \n",
       "\n",
       "[5 rows x 112 columns]"
      ]
     },
     "execution_count": 3,
     "metadata": {},
     "output_type": "execute_result"
    }
   ],
   "source": [
    "y = data['Class']\n",
    "X = data.drop('Class',axis=1)#5 rows × 112 columns\n",
    "X.head(5)\n"
   ]
  },
  {
   "cell_type": "code",
   "execution_count": 4,
   "metadata": {},
   "outputs": [
    {
     "name": "stdout",
     "output_type": "stream",
     "text": [
      "The Length of X_train -> 5184\n",
      "The Length of X_test -> 576\n"
     ]
    }
   ],
   "source": [
    "from sklearn.model_selection import train_test_split\n",
    "X_train,X_test,y_train,y_test = train_test_split(X,y, test_size=0.1)\n",
    "print(\"The Length of X_train ->\",len(X_train))\n",
    "print(\"The Length of X_test ->\",len(X_test))\n",
    "# print(\"The Length of y_train ->\",len(y_train))\n",
    "# print(\"The Length of y_test ->\",len(y_test))"
   ]
  },
  {
   "cell_type": "code",
   "execution_count": 5,
   "metadata": {},
   "outputs": [],
   "source": [
    "from sklearn.svm import SVC\n",
    "model = SVC(C=10, kernel='rbf', gamma='auto')"
   ]
  },
  {
   "cell_type": "code",
   "execution_count": 6,
   "metadata": {},
   "outputs": [
    {
     "data": {
      "text/html": [
       "<style>#sk-container-id-1 {color: black;}#sk-container-id-1 pre{padding: 0;}#sk-container-id-1 div.sk-toggleable {background-color: white;}#sk-container-id-1 label.sk-toggleable__label {cursor: pointer;display: block;width: 100%;margin-bottom: 0;padding: 0.3em;box-sizing: border-box;text-align: center;}#sk-container-id-1 label.sk-toggleable__label-arrow:before {content: \"▸\";float: left;margin-right: 0.25em;color: #696969;}#sk-container-id-1 label.sk-toggleable__label-arrow:hover:before {color: black;}#sk-container-id-1 div.sk-estimator:hover label.sk-toggleable__label-arrow:before {color: black;}#sk-container-id-1 div.sk-toggleable__content {max-height: 0;max-width: 0;overflow: hidden;text-align: left;background-color: #f0f8ff;}#sk-container-id-1 div.sk-toggleable__content pre {margin: 0.2em;color: black;border-radius: 0.25em;background-color: #f0f8ff;}#sk-container-id-1 input.sk-toggleable__control:checked~div.sk-toggleable__content {max-height: 200px;max-width: 100%;overflow: auto;}#sk-container-id-1 input.sk-toggleable__control:checked~label.sk-toggleable__label-arrow:before {content: \"▾\";}#sk-container-id-1 div.sk-estimator input.sk-toggleable__control:checked~label.sk-toggleable__label {background-color: #d4ebff;}#sk-container-id-1 div.sk-label input.sk-toggleable__control:checked~label.sk-toggleable__label {background-color: #d4ebff;}#sk-container-id-1 input.sk-hidden--visually {border: 0;clip: rect(1px 1px 1px 1px);clip: rect(1px, 1px, 1px, 1px);height: 1px;margin: -1px;overflow: hidden;padding: 0;position: absolute;width: 1px;}#sk-container-id-1 div.sk-estimator {font-family: monospace;background-color: #f0f8ff;border: 1px dotted black;border-radius: 0.25em;box-sizing: border-box;margin-bottom: 0.5em;}#sk-container-id-1 div.sk-estimator:hover {background-color: #d4ebff;}#sk-container-id-1 div.sk-parallel-item::after {content: \"\";width: 100%;border-bottom: 1px solid gray;flex-grow: 1;}#sk-container-id-1 div.sk-label:hover label.sk-toggleable__label {background-color: #d4ebff;}#sk-container-id-1 div.sk-serial::before {content: \"\";position: absolute;border-left: 1px solid gray;box-sizing: border-box;top: 0;bottom: 0;left: 50%;z-index: 0;}#sk-container-id-1 div.sk-serial {display: flex;flex-direction: column;align-items: center;background-color: white;padding-right: 0.2em;padding-left: 0.2em;position: relative;}#sk-container-id-1 div.sk-item {position: relative;z-index: 1;}#sk-container-id-1 div.sk-parallel {display: flex;align-items: stretch;justify-content: center;background-color: white;position: relative;}#sk-container-id-1 div.sk-item::before, #sk-container-id-1 div.sk-parallel-item::before {content: \"\";position: absolute;border-left: 1px solid gray;box-sizing: border-box;top: 0;bottom: 0;left: 50%;z-index: -1;}#sk-container-id-1 div.sk-parallel-item {display: flex;flex-direction: column;z-index: 1;position: relative;background-color: white;}#sk-container-id-1 div.sk-parallel-item:first-child::after {align-self: flex-end;width: 50%;}#sk-container-id-1 div.sk-parallel-item:last-child::after {align-self: flex-start;width: 50%;}#sk-container-id-1 div.sk-parallel-item:only-child::after {width: 0;}#sk-container-id-1 div.sk-dashed-wrapped {border: 1px dashed gray;margin: 0 0.4em 0.5em 0.4em;box-sizing: border-box;padding-bottom: 0.4em;background-color: white;}#sk-container-id-1 div.sk-label label {font-family: monospace;font-weight: bold;display: inline-block;line-height: 1.2em;}#sk-container-id-1 div.sk-label-container {text-align: center;}#sk-container-id-1 div.sk-container {/* jupyter's `normalize.less` sets `[hidden] { display: none; }` but bootstrap.min.css set `[hidden] { display: none !important; }` so we also need the `!important` here to be able to override the default hidden behavior on the sphinx rendered scikit-learn.org. See: https://github.com/scikit-learn/scikit-learn/issues/21755 */display: inline-block !important;position: relative;}#sk-container-id-1 div.sk-text-repr-fallback {display: none;}</style><div id=\"sk-container-id-1\" class=\"sk-top-container\"><div class=\"sk-text-repr-fallback\"><pre>SVC(C=10, gamma=&#x27;auto&#x27;)</pre><b>In a Jupyter environment, please rerun this cell to show the HTML representation or trust the notebook. <br />On GitHub, the HTML representation is unable to render, please try loading this page with nbviewer.org.</b></div><div class=\"sk-container\" hidden><div class=\"sk-item\"><div class=\"sk-estimator sk-toggleable\"><input class=\"sk-toggleable__control sk-hidden--visually\" id=\"sk-estimator-id-1\" type=\"checkbox\" checked><label for=\"sk-estimator-id-1\" class=\"sk-toggleable__label sk-toggleable__label-arrow\">SVC</label><div class=\"sk-toggleable__content\"><pre>SVC(C=10, gamma=&#x27;auto&#x27;)</pre></div></div></div></div></div>"
      ],
      "text/plain": [
       "SVC(C=10, gamma='auto')"
      ]
     },
     "execution_count": 6,
     "metadata": {},
     "output_type": "execute_result"
    }
   ],
   "source": [
    "model.fit(X_train,y_train)"
   ]
  },
  {
   "cell_type": "code",
   "execution_count": 7,
   "metadata": {},
   "outputs": [
    {
     "name": "stdout",
     "output_type": "stream",
     "text": [
      "Accuracy-> 74.82638888888889\n"
     ]
    }
   ],
   "source": [
    "acc= model.score(X_test,y_test)\n",
    "print(\"Accuracy->\", acc*100)"
   ]
  }
 ],
 "metadata": {
  "kernelspec": {
   "display_name": "Python 3",
   "language": "python",
   "name": "python3"
  },
  "language_info": {
   "codemirror_mode": {
    "name": "ipython",
    "version": 3
   },
   "file_extension": ".py",
   "mimetype": "text/x-python",
   "name": "python",
   "nbconvert_exporter": "python",
   "pygments_lexer": "ipython3",
   "version": "3.11.5"
  },
  "orig_nbformat": 4
 },
 "nbformat": 4,
 "nbformat_minor": 2
}
